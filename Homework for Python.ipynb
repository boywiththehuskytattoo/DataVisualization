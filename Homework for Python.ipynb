{
 "cells": [
  {
   "cell_type": "markdown",
   "metadata": {},
   "source": [
    "# Basic Plot\n",
    "\n",
    "### Line plot\n",
    "Create a line plot showing the number of marriages and divorces per capita in the U.S. between 1867 and 2014. Label both of the lines and show the legend.\n",
    "\n",
    "Don't forget to label your axes!\n",
    "\n"
   ]
  },
  {
   "cell_type": "code",
   "execution_count": null,
   "metadata": {
    "collapsed": true
   },
   "outputs": [],
   "source": [
    "import pandas as pd\n",
    "\n",
    "us_marriage_divorce_data = pd.read_csv('data/us-marriages-divorces-1867-2014.csv')\n",
    "years = us_marriage_divorce_data['Year'].values\n",
    "marriages_per_capita = us_marriage_divorce_data['Marriages_per_1000'].values\n",
    "divorces_per_capita = us_marriage_divorce_data['Divorces_per_1000'].values\n",
    "\n"
   ]
  },
  {
   "cell_type": "markdown",
   "metadata": {},
   "source": [
    "### Vertical Bar Chart\n",
    "\n",
    "Create a vertical bar chart comparing the number of marriages and divorces per capita in the U.S. between 1900, 1950, and 2000.\n",
    "\n",
    "Don't forget to label your axes!"
   ]
  },
  {
   "cell_type": "code",
   "execution_count": null,
   "metadata": {
    "collapsed": true
   },
   "outputs": [],
   "source": [
    "import pandas as pd\n",
    "\n",
    "us_marriage_divorce_data = pd.read_csv('data/us-marriages-divorces-1867-2014.csv')\n",
    "us_marriage_divorce_data = us_marriage_divorce_data[\n",
    "    us_marriage_divorce_data['Year'].apply(lambda x: x in [1900, 1950, 2000])]\n",
    "\n",
    "years = us_marriage_divorce_data['Year'].values\n",
    "marriages_per_capita = us_marriage_divorce_data['Marriages_per_1000'].values\n",
    "divorces_per_capita = us_marriage_divorce_data['Divorces_per_1000'].values\n",
    "\n"
   ]
  },
  {
   "cell_type": "markdown",
   "metadata": {},
   "source": [
    "### Horizontal Bar Chart\n",
    "\n",
    "Create a horizontal bar chart that compares the deadliest actors in Hollywood. Sort the actors by their kill count and label each bar with the corresponding actor's name.\n",
    "\n",
    "Don't forget to label your axes!\n",
    "\n",
    "For reference, here's the raw data:"
   ]
  },
  {
   "cell_type": "code",
   "execution_count": null,
   "metadata": {
    "collapsed": true
   },
   "outputs": [],
   "source": [
    "import pandas as pd\n",
    "\n",
    "hollywood_actor_kills = pd.read_csv('data/actor_kill_counts.csv')\n",
    "hollywood_actor_kills"
   ]
  },
  {
   "cell_type": "code",
   "execution_count": null,
   "metadata": {
    "collapsed": true
   },
   "outputs": [],
   "source": [
    "import pandas as pd\n",
    "\n",
    "hollywood_actor_kills = pd.read_csv('data/actor_kill_counts.csv')\n",
    "actor_names = hollywood_actor_kills['Actor'].values\n",
    "kill_counts = hollywood_actor_kills['Count'].values\n",
    "\n"
   ]
  },
  {
   "cell_type": "markdown",
   "metadata": {},
   "source": [
    "### Pie Chart\n",
    "\n",
    "Create a pie chart showing the fraction of all Roman Emperors that were assassinated.\n",
    "\n",
    "Make sure that the pie chart is an even circle, labels the categories, and shows the percentage breakdown of the categories."
   ]
  },
  {
   "cell_type": "code",
   "execution_count": null,
   "metadata": {
    "collapsed": true
   },
   "outputs": [],
   "source": [
    "import pandas as pd\n",
    "\n",
    "roman_emperors = pd.read_csv('data/roman-emperor-reigns.csv')\n",
    "assassinated_emperors = roman_emperors[\n",
    "    roman_emperors['Cause_of_Death'].apply(lambda x: 'assassinated' in x.lower())]\n",
    "\n",
    "number_assassinated = len(assassinated_emperors)\n",
    "other_deaths = len(roman_emperors) - number_assassinated\n",
    "\n"
   ]
  },
  {
   "cell_type": "markdown",
   "metadata": {},
   "source": [
    "### Scatter Plot\n",
    "\n",
    "Create a scatter plot showing the relationship between the total revenue earned by arcades and the number of Computer Science PhDs awarded in the U.S. between 2000 and 2009.\n",
    "\n",
    "Don't forget to label your axes!\n",
    "\n",
    "Color each dot according to its year."
   ]
  },
  {
   "cell_type": "code",
   "execution_count": null,
   "metadata": {
    "collapsed": true
   },
   "outputs": [],
   "source": [
    "import pandas as pd\n",
    "\n",
    "arcade_revenue_cs_doctorates = pd.read_csv('data/arcade-revenue-vs-cs-doctorates.csv')\n",
    "arcade_revenue = arcade_revenue_cs_doctorates['Total Arcade Revenue (billions)'].values\n",
    "cs_doctorates_awarded = arcade_revenue_cs_doctorates[\n",
    "    'Computer Science Doctorates Awarded (US)'].values\n",
    "\n"
   ]
  },
  {
   "cell_type": "markdown",
   "metadata": {},
   "source": [
    "### Histogram\n",
    "\n",
    "Create a histogram showing the distribution of the Roman Emperor's reign lengths.\n",
    "\n",
    "What does this distribution tell you?"
   ]
  },
  {
   "cell_type": "code",
   "execution_count": null,
   "metadata": {
    "collapsed": true
   },
   "outputs": [],
   "source": [
    "import pandas as pd\n",
    "\n",
    "roman_emperors = pd.read_csv('data/roman-emperor-reigns.csv')\n",
    "roman_emperor_reign_lengths = roman_emperors['Length_of_Reign'].values\n",
    "\n"
   ]
  },
  {
   "cell_type": "markdown",
   "metadata": {},
   "source": [
    "### Box Plots\n",
    "Create two box plots to compare the earnings of recent college graduates in majors that are primarily composed of women to the earnings of recent college graduates in majors that are primarily composed of men.\n",
    "\n",
    "Does there appear to be a significant difference? (Hint: Use notches.)\n",
    "\n",
    "Remember to label the categories!"
   ]
  },
  {
   "cell_type": "code",
   "execution_count": null,
   "metadata": {
    "collapsed": true
   },
   "outputs": [],
   "source": [
    "import pandas as pd\n",
    "\n",
    "college_major_earnings = pd.read_csv('data/recent-college-grads-earnings.csv')\n",
    "more_men_earnings = college_major_earnings[\n",
    "    college_major_earnings['ShareWomen'] < 0.5]['Median'].values\n",
    "\n",
    "more_women_earnings = college_major_earnings[\n",
    "    college_major_earnings['ShareWomen'] > 0.5]['Median'].values"
   ]
  },
  {
   "cell_type": "markdown",
   "metadata": {},
   "source": [
    "### Subplots\n",
    "\n",
    "Use subplots to create a figure with two sepate line plots showing the number of marriages and divorces per capita in the U.S. between 1867 and 2014. Place the two line plots on top of each other so the years line up.\n",
    "\n",
    "Don't forget to label your axes!"
   ]
  },
  {
   "cell_type": "code",
   "execution_count": null,
   "metadata": {
    "collapsed": true
   },
   "outputs": [],
   "source": [
    "import pandas as pd\n",
    "\n",
    "us_marriage_divorce_data = pd.read_csv('data/us-marriages-divorces-1867-2014.csv')\n",
    "years = us_marriage_divorce_data['Year'].values\n",
    "marriages_per_capita = us_marriage_divorce_data['Marriages_per_1000'].values\n",
    "divorces_per_capita = us_marriage_divorce_data['Divorces_per_1000'].values\n",
    "\n"
   ]
  },
  {
   "cell_type": "markdown",
   "metadata": {},
   "source": [
    "### Multiple Plots\n",
    "\n",
    "Use small multiples to compare the trends in gender ratio of 17 U.S. college majors between 1970 and 2011. Make sure all of the subplots have the same axes and ranges.\n",
    "\n",
    "Only label the y-axes of the subplots on the left; only label the x-axes of the subplots on the bottom."
   ]
  },
  {
   "cell_type": "code",
   "execution_count": null,
   "metadata": {
    "collapsed": true
   },
   "outputs": [],
   "source": [
    "import pandas as pd\n",
    "\n",
    "degree_gender_ratio = pd.read_csv('data/percent-degrees-conferred-women-usa.csv')\n",
    "years = degree_gender_ratio['Year'].values\n",
    "degree_gender_ratios = {}\n",
    "\n",
    "for degree in degree_gender_ratio.columns.drop('Year'):\n",
    "    degree_gender_ratios[degree] = degree_gender_ratio[degree].values"
   ]
  },
  {
   "cell_type": "code",
   "execution_count": null,
   "metadata": {
    "collapsed": true
   },
   "outputs": [],
   "source": []
  }
 ],
 "metadata": {
  "kernelspec": {
   "display_name": "Python 2",
   "language": "python",
   "name": "python2"
  },
  "language_info": {
   "codemirror_mode": {
    "name": "ipython",
    "version": 2
   },
   "file_extension": ".py",
   "mimetype": "text/x-python",
   "name": "python",
   "nbconvert_exporter": "python",
   "pygments_lexer": "ipython2",
   "version": "2.7.11"
  }
 },
 "nbformat": 4,
 "nbformat_minor": 1
}
